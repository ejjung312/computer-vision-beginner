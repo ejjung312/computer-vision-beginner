{
 "cells": [
  {
   "cell_type": "code",
   "execution_count": null,
   "metadata": {},
   "outputs": [],
   "source": [
    "!pip install ultralytics"
   ]
  },
  {
   "cell_type": "code",
   "execution_count": null,
   "metadata": {},
   "outputs": [],
   "source": [
    "import torch\n",
    "from torchvision import datasets, transforms\n",
    "from torch.utils.data import DataLoader\n",
    "import os\n",
    "import numpy as np\n",
    "import cv2\n",
    "from sklearn.model_selection import train_test_split\n",
    "from ultralytics import YOLO\n",
    "\n",
    "# Fashion MNIST 데이터 로드\n",
    "transform = transforms.Compose([\n",
    "    transforms.ToTensor(),\n",
    "    transforms.Normalize((0.5,), (0.5,)) # Normalize to [-1, 1]\n",
    "])\n",
    "\n",
    "fashion_mnist_train = datasets.FashionMNIST(root='data', train=True, download=True, transform=transform)\n",
    "fashion_mnist_test = datasets.FashionMNIST(root='data', train=False, download=True, transform=transform)\n",
    "\n",
    "# 데이터와 라벨 추출\n",
    "x_train = fashion_mnist_train.data.numpy()\n",
    "y_train = fashion_mnist_train.targets.numpy()\n",
    "x_test = fashion_mnist_test.data.numpy()\n",
    "y_test = fashion_mnist_test.targets.numpy()\n",
    "\n",
    "# YOLO 형식 변환\n",
    "# YOLOv8은 RGB 이미지를 ㅅ ㅏ용하므로 채널 추가 및 크기 변환 필요\n",
    "def preprocess_and_save(data, labels, base_dir):\n",
    "  os.makedirs(base_dir, exist_ok=True)\n",
    "\n",
    "  for i, (img, label) in enumerate(zip(data, labels)):\n",
    "    # Gray -> RGB 변환\n",
    "    img_rgb = cv2.cvtColor(img, cv2.COLOR_GRAY2RGB)\n",
    "\n",
    "    # YOLOv8 요구 크기로 조정\n",
    "    img_resized = cv2.resize(img_rgb, (224, 224))\n",
    "\n",
    "    # 클래스 디렉토리 생성\n",
    "    label_dir = os.path.join(base_dir, str(label))\n",
    "    os.makedirs(label_dir, exist_ok=True)\n",
    "\n",
    "    # 이미지 저장\n",
    "    cv2.imwrite(os.path.join(label_dir, f\"{i}.jpg\"), img_resized)\n",
    "\n",
    "# 데이터 디렉토리 생성\n",
    "os.makedirs(\"datasets/fashion_mnist/train\", exist_ok=True)\n",
    "os.makedirs(\"datasets/fashion_mnist/val\", exist_ok=True)\n",
    "\n",
    "# 데이터 분리\n",
    "x_train, x_val, y_train, y_val = train_test_split(x_train, y_train, test_size=0.2, random_state=42)\n",
    "\n",
    "preprocess_and_save(x_train, y_train, \"datasets/fashion_mnist/train\")\n",
    "preprocess_and_save(x_val, y_val, \"datasets/fashion_mnist/val\")\n",
    "preprocess_and_save(x_test, y_test, \"datasets/fashion_mnist/test\")  # 테스트 데이터도 저장 (옵션)"
   ]
  },
  {
   "cell_type": "code",
   "execution_count": null,
   "metadata": {},
   "outputs": [],
   "source": [
    "model = YOLO('yolov8n-cls.pt')\n",
    "\n",
    "data_path = \"datasets/fashion_mnist\"\n",
    "\n",
    "model.train(\n",
    "    data=data_path,\n",
    "    epochs=10,\n",
    "    imgsz=224,\n",
    "    batch=32\n",
    ")"
   ]
  },
  {
   "cell_type": "code",
   "execution_count": null,
   "metadata": {},
   "outputs": [],
   "source": [
    "# 모델 평가\n",
    "metrics = model.val()\n",
    "print(metrics)"
   ]
  },
  {
   "cell_type": "code",
   "execution_count": null,
   "metadata": {},
   "outputs": [],
   "source": [
    "# 모델 예측\n",
    "results = model.predict(source=\"datasets/fashion_mnist/val/0\", save=True)\n",
    "print(results)"
   ]
  }
 ],
 "metadata": {
  "language_info": {
   "name": "python"
  }
 },
 "nbformat": 4,
 "nbformat_minor": 2
}
